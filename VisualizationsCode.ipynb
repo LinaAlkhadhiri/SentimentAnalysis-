{
  "nbformat": 4,
  "nbformat_minor": 0,
  "metadata": {
    "colab": {
      "name": "VisualizationsCode.ipynb",
      "provenance": [],
      "collapsed_sections": []
    },
    "kernelspec": {
      "name": "python3",
      "display_name": "Python 3"
    },
    "language_info": {
      "name": "python"
    }
  },
  "cells": [
    {
      "cell_type": "markdown",
      "source": [
        "# Visualizations"
      ],
      "metadata": {
        "id": "gD1k_RiFU1ZB"
      }
    },
    {
      "cell_type": "code",
      "execution_count": null,
      "metadata": {
        "id": "6aLZeMrNmeEV"
      },
      "outputs": [],
      "source": [
        "import sys\n",
        "!{sys.executable} -m pip install pandas\n",
        "!{sys.executable} -m pip install numpy\n",
        "!{sys.executable} -m pip install nltk\n",
        "!{sys.executable} -m pip install matplotlib\n",
        "!{sys.executable} -m pip install sklearn"
      ]
    },
    {
      "cell_type": "code",
      "source": [
        "import pandas as pd\n",
        "import numpy as np \n",
        "import matplotlib.pyplot as plt\n",
        "import re # for regular expression\n",
        "import string\n",
        "import nltk \n",
        "from nltk.tokenize import word_tokenize\n",
        "from nltk.tokenize import RegexpTokenizer\n",
        "from collections import Counter \n",
        "\n",
        "%matplotlib inline"
      ],
      "metadata": {
        "id": "8nGVzW9hmpmm"
      },
      "execution_count": 2,
      "outputs": []
    },
    {
      "cell_type": "code",
      "source": [
        "# change the seeting of the cells\n",
        "pd.set_option('display.max_columns', None)\n",
        "pd.set_option('display.max_rows', None)\n",
        "pd.set_option('display.max_colwidth', -1)\n",
        "pd.set_option('display.float_format', lambda x: '%.5f' % x)"
      ],
      "metadata": {
        "id": "vDerOznDmuay"
      },
      "execution_count": null,
      "outputs": []
    },
    {
      "cell_type": "code",
      "source": [
        "# read file and save it in a data frame\n",
        "data_df=pd.read_excel('/content/datasetMovie.xltx') "
      ],
      "metadata": {
        "id": "28XiKKQamyfg"
      },
      "execution_count": 4,
      "outputs": []
    },
    {
      "cell_type": "code",
      "source": [
        "from google.colab import drive\n",
        "drive.mount('/content/drive')"
      ],
      "metadata": {
        "id": "siQf8VJsm9hH"
      },
      "execution_count": null,
      "outputs": []
    },
    {
      "cell_type": "code",
      "source": [
        "#libraries for word occurrence()\n",
        "'''from sklearn.feature_extraction.text  import TfidfTransformer\n",
        "from sklearn.feature_extraction.text  import CountVectorizer'''"
      ],
      "metadata": {
        "id": "BET5KtaznHw6"
      },
      "execution_count": 6,
      "outputs": []
    },
    {
      "cell_type": "code",
      "source": [
        "import seaborn as sns\n",
        "import arabic_reshaper"
      ],
      "metadata": {
        "id": "okc7KlWjnkoj"
      },
      "execution_count": 8,
      "outputs": []
    },
    {
      "cell_type": "code",
      "source": [
        "# remove punctuations  \n",
        "arabic_punctuations = '''`÷×؛<>_()*&^%][ـ،/:\"؟.,'{}~¦+|!”…“–ـ'''\n",
        "english_punctuations = string.punctuation\n",
        "punctuations_list = arabic_punctuations + english_punctuations\n",
        "#this funcation take txet as input and return the text after removing punctuations \n",
        "def remove_punctuations(text):\n",
        "    translator = str.maketrans('', '', punctuations_list)\n",
        "    return text.translate(translator)  "
      ],
      "metadata": {
        "id": "ffW3RSz3oCJh"
      },
      "execution_count": 10,
      "outputs": []
    },
    {
      "cell_type": "code",
      "source": [
        "def normalize_arabic(text):\n",
        "    \n",
        "    text = re.sub(\"[إأآا]\", \"ا\", text)\n",
        "    text = re.sub(\"ى\", \"ي\", text)\n",
        "    text = re.sub(\"ة\", \"ه\", text)\n",
        "    text = re.sub(\"گ\", \"ك\", text)\n",
        "    text = re.sub(\"ؤ\", \"و\", text)\n",
        "\n",
        "    return text"
      ],
      "metadata": {
        "id": "5WbG1d6toF5N"
      },
      "execution_count": 11,
      "outputs": []
    },
    {
      "cell_type": "code",
      "source": [
        "def processPost(tweet):\n",
        "    #Replace @username with empty string\n",
        "    tweet = re.sub('@[^\\s]+', ' ', tweet)\n",
        "    \n",
        "    #Convert www.* or https?://* to \" \"\n",
        "    tweet = re.sub('((www\\.[^\\s]+)|(https?://[^\\s]+))',' ',tweet)\n",
        "    \n",
        "    #Replace #word with word\n",
        "    tweet = re.sub(r'#([^\\s]+)', r'\\1', tweet)\n",
        "\n",
        "    # remove punctuations\n",
        "    tweet= remove_punctuations(tweet)\n",
        "    \n",
        "    # normalize the tweet\n",
        "    #check if the word in the dictionary list (it have two letters as part of the word)\n",
        "    tweet= normalize_arabic(tweet)\n",
        "    \n",
        "    \n",
        "    #remove numbers\n",
        "    tweet = ''.join(i for i in tweet if not i.isdigit())\n",
        "    #remove english letters\n",
        "    tweet= re.sub(r'[a-z]+',\" \", tweet)\n",
        "    tweet= re.sub(r'[A-Z]+',\" \", tweet)\n",
        "    \n",
        "    \n",
        "    return tweet"
      ],
      "metadata": {
        "id": "S-pmR62poMCb"
      },
      "execution_count": 12,
      "outputs": []
    },
    {
      "cell_type": "code",
      "source": [
        "data_df[\"clean text\"] =data_df[\"Text\"].apply(lambda x: processPost(x))"
      ],
      "metadata": {
        "id": "1_8K22fVoRcX"
      },
      "execution_count": 13,
      "outputs": []
    },
    {
      "cell_type": "code",
      "source": [
        "tokenizer = RegexpTokenizer(r'\\w+')\n",
        "data_df[\"tokens\"] = data_df[\"clean text\"].apply(tokenizer.tokenize)"
      ],
      "metadata": {
        "id": "cbUNkPp2oY1X"
      },
      "execution_count": 16,
      "outputs": []
    },
    {
      "cell_type": "code",
      "source": [
        "all_words = [word for tokens in data_df[\"tokens\"] for word in tokens]\n",
        "sentence_lengths = [len(tokens) for tokens in data_df[\"tokens\"]]\n",
        "\n",
        "VOCAB = sorted(list(set(all_words)))\n",
        "\n",
        "print(\"%s words total, with a vocabulary size of %s\" % (len(all_words), len(VOCAB)))\n",
        "print(\"Max sentence length is %s\" % max(sentence_lengths))"
      ],
      "metadata": {
        "id": "lq1Lb_wcocTL"
      },
      "execution_count": null,
      "outputs": []
    },
    {
      "cell_type": "code",
      "source": [
        "df1 = data_df[data_df['clean text'].str.contains('كوميدي')]"
      ],
      "metadata": {
        "id": "r_VLwSZino55"
      },
      "execution_count": 33,
      "outputs": []
    },
    {
      "cell_type": "code",
      "source": [
        "df2 = data_df[data_df['clean text'].str.contains('ساخر')]"
      ],
      "metadata": {
        "id": "AttoUPjBnsSz"
      },
      "execution_count": 39,
      "outputs": []
    },
    {
      "cell_type": "code",
      "source": [
        "df3 = data_df[data_df['clean text'].str.contains('مضحك')]"
      ],
      "metadata": {
        "id": "XxNZ5uaOooYf"
      },
      "execution_count": 35,
      "outputs": []
    },
    {
      "cell_type": "code",
      "source": [
        "df4 = data_df[data_df['clean text'].str.contains('افيهات')]"
      ],
      "metadata": {
        "id": "zQKSzkwNosyw"
      },
      "execution_count": 36,
      "outputs": []
    },
    {
      "cell_type": "code",
      "source": [
        "#merge the four dataframes into one dataframe that is df_comedy\n",
        "frames = [df1,df2,df3,df4]\n",
        "df_comedy = pd.concat(frames)"
      ],
      "metadata": {
        "id": "Qwo3vwJ3owSb"
      },
      "execution_count": 40,
      "outputs": []
    },
    {
      "cell_type": "code",
      "source": [
        "#bar chart\n",
        "plt.figure(figsize=[10,9]);\n",
        "order_by_count = df_comedy.classification.value_counts().index\n",
        "sns.countplot(data = df_comedy, x='classification', order = order_by_count);\n",
        "plt.title('People\\'s opinion on movies', fontsize=12, weight='bold');\n",
        "plt.xlabel('People\\'s opinion',fontsize=10, weight='bold');\n",
        "plt.ylabel('Frequency',fontsize=10, weight='bold');"
      ],
      "metadata": {
        "colab": {
          "base_uri": "https://localhost:8080/",
          "height": 567
        },
        "id": "L_Hguz4nozkE",
        "outputId": "3a7c4985-07af-47c4-b5e7-164d9c7d998a"
      },
      "execution_count": 48,
      "outputs": [
        {
          "output_type": "display_data",
          "data": {
            "text/plain": [
              "<Figure size 720x648 with 1 Axes>"
            ],
            "image/png": "[encoded data removed]"
          },
          "metadata": {
            "needs_background": "light"
          }
        }
      ]
    },
    {
      "cell_type": "code",
      "source": [
        "#pie chart\n",
        "plt.figure(figsize=[10,9]);\n",
        "y = df_comedy.classification.value_counts()\n",
        "myLabels = [\"Positive\",\"Negative\",\"Neutral\"]\n",
        "plt.pie(y, labels= myLabels , autopct= '%1.1f%%', textprops={'fontsize':15, 'weight':'bold'})\n",
        "plt.show()"
      ],
      "metadata": {
        "id": "kXBfy0YkpGa2"
      },
      "execution_count": null,
      "outputs": []
    },
    {
      "cell_type": "code",
      "source": [
        "df5 = data_df[data_df['clean text'].str.contains('وقت')]"
      ],
      "metadata": {
        "id": "PMh3xSxM93by"
      },
      "execution_count": 43,
      "outputs": []
    },
    {
      "cell_type": "code",
      "source": [
        "df6 = data_df[data_df['clean text'].str.contains('مده')]"
      ],
      "metadata": {
        "id": "7sb2UBVi9_d9"
      },
      "execution_count": 44,
      "outputs": []
    },
    {
      "cell_type": "code",
      "source": [
        "df7 = data_df[data_df['clean text'].str.contains('طويل')]"
      ],
      "metadata": {
        "id": "k0YRZidz-B7e"
      },
      "execution_count": 45,
      "outputs": []
    },
    {
      "cell_type": "code",
      "source": [
        "df8 = data_df[data_df['clean text'].str.contains('طويل جدا')]"
      ],
      "metadata": {
        "id": "F3jxew2K-D7U"
      },
      "execution_count": 46,
      "outputs": []
    },
    {
      "cell_type": "code",
      "source": [
        "#merge the four dataframes into one dataframe that is df_time\n",
        "frame = [df5,df6,df7,df8]\n",
        "df_time = pd.concat(frame)"
      ],
      "metadata": {
        "id": "0z3ezxv1-aYE"
      },
      "execution_count": 47,
      "outputs": []
    },
    {
      "cell_type": "code",
      "source": [
        "#bar chart\n",
        "plt.figure(figsize=[10,9]);\n",
        "orderbycount = df_time.classification.value_counts().index\n",
        "sns.countplot(data = df_time, x='classification', order = orderbycount);\n",
        "plt.title('People\\'s opinion on time of movies', fontsize=12, weight='bold');\n",
        "plt.xlabel('People\\'s opinion',fontsize=10, weight='bold');\n",
        "plt.ylabel('Frequency',fontsize=10, weight='bold');"
      ],
      "metadata": {
        "colab": {
          "base_uri": "https://localhost:8080/",
          "height": 567
        },
        "id": "CzQX1Y3V-pI9",
        "outputId": "841b7150-73c9-47e2-fc2e-c224ea84512b"
      },
      "execution_count": 49,
      "outputs": [
        {
          "output_type": "display_data",
          "data": {
            "text/plain": [
              "<Figure size 720x648 with 1 Axes>"
            ],
            "image/png": "[encoded data removed]"
          },
          "metadata": {
            "needs_background": "light"
          }
        }
      ]
    },
    {
      "cell_type": "code",
      "source": [
        "#pie chart\n",
        "plt.figure(figsize=[10,9]);\n",
        "y = df_time.classification.value_counts()\n",
        "myLabels = [\"Positive\",\"Negative\",\"Neutral\"]\n",
        "plt.pie(y, labels= myLabels , autopct= '%1.1f%%', textprops={'fontsize':15, 'weight':'bold'})\n",
        "plt.show()"
      ],
      "metadata": {
        "colab": {
          "base_uri": "https://localhost:8080/",
          "height": 520
        },
        "id": "sO4ev3Lm_V6g",
        "outputId": "8e19aa72-3c0d-40d5-e960-7c2e732f4775"
      },
      "execution_count": 50,
      "outputs": [
        {
          "output_type": "display_data",
          "data": {
            "text/plain": [
              "<Figure size 720x648 with 1 Axes>"
            ],
            "image/png": "[encoded data removed]"
          },
          "metadata": {}
        }
      ]
    }
  ]
}